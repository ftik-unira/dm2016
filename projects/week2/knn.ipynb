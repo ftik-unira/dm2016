{
 "cells": [
  {
   "cell_type": "markdown",
   "metadata": {},
   "source": [
    "kNN (k Nearest Neighbor)\n",
    "========================"
   ]
  },
  {
   "cell_type": "code",
   "execution_count": null,
   "metadata": {
    "collapsed": true
   },
   "outputs": [],
   "source": [
    "users = {\n",
    "    \"Angelica\": {\n",
    "    \"Blues Traveler\": 3.5,\n",
    "    \"Broken Bells\": 2.0,\n",
    "    \"Norah Jones\": 4.5,\n",
    "    \"Phoenix\": 5.0,\n",
    "    \"Slightly Stoopid\": 1.5,\n",
    "    \"The Strokes\": 2.5,\n",
    "    \"Vampire Weekend\": 2.0\n",
    "    },\n",
    "\n",
    "    \"Bill\": {\n",
    "    \"Blues Traveler\": 2.0,\n",
    "    \"Broken Bells\": 3.5,\n",
    "    \"Deadmau5\": 4.0,\n",
    "    \"Phoenix\": 2.0,\n",
    "    \"Slightly Stoopid\": 3.5,\n",
    "    \"Vampire Weekend\": 3.0\n",
    "    },\n",
    "    \"Chan\": {\n",
    "    \"Blues Traveler\": 5.0,\n",
    "    \"Broken Bells\": 1.0,\n",
    "    \"Deadmau5\": 1.0,\n",
    "    \"Norah Jones\": 3.0,\n",
    "    \"Phoenix\": 5,\n",
    "    \"Slightly Stoopid\": 1.0\n",
    "    },\n",
    "    \"Dan\": {\n",
    "    \"Blues Traveler\": 3.0,\n",
    "    \"Broken Bells\": 4.0,\n",
    "    \"Deadmau5\": 4.5,\n",
    "    \"Phoenix\": 3.0,\n",
    "    \"Slightly Stoopid\": 4.5,\n",
    "    \"The Strokes\": 4.0,\n",
    "    \"Vampire Weekend\": 2.0\n",
    "    },\n",
    "    \"Hailey\": {\n",
    "    \"Broken Bells\": 4.0,\n",
    "    \"Deadmau5\": 1.0,\n",
    "    \"Norah Jones\": 4.0,\n",
    "    \"The Strokes\": 4.0,\n",
    "    \"Vampire Weekend\": 1.0\n",
    "    },\n",
    "    \"Jordyn\": {\n",
    "    \"Broken Bells\": 4.5,\n",
    "    \"Deadmau5\": 4.0,\n",
    "    \"Norah Jones\": 5.0,\n",
    "    \"Phoenix\": 5.0,\n",
    "    \"Slightly Stoopid\": 4.5,\n",
    "    \"The Strokes\": 4.0,\n",
    "    \"Vampire Weekend\": 4.0\n",
    "    },\n",
    "    \"Sam\": {\n",
    "    \"Blues Traveler\": 5.0,\n",
    "    \"Broken Bells\": 2.0,\n",
    "    \"Norah Jones\": 3.0,\n",
    "    \"Phoenix\": 5.0,\n",
    "    \"Slightly Stoopid\": 4.0,\n",
    "    \"The Strokes\": 5.0\n",
    "    },\n",
    "    \"Veronica\": {\n",
    "    \"Blues Traveler\": 3.0,\n",
    "    \"Norah Jones\": 5.0,\n",
    "    \"Phoenix\": 4.0,\n",
    "    \"Slightly Stoopid\": 2.5,\n",
    "    \"The Strokes\": 3.0\n",
    "    }\n",
    "}"
   ]
  },
  {
   "cell_type": "markdown",
   "metadata": {},
   "source": [
    "### Using manhattan distance"
   ]
  },
  {
   "cell_type": "code",
   "execution_count": null,
   "metadata": {
    "collapsed": true
   },
   "outputs": [],
   "source": [
    "def manhattan(rating1, rating2):\n",
    "    distance = 0\n",
    "    for key in rating1:\n",
    "        if key in rating2:\n",
    "            distance += abs(rating1[key] - rating2[key])\n",
    "    return distance "
   ]
  },
  {
   "cell_type": "markdown",
   "metadata": {},
   "source": [
    "### Using euclidean distance"
   ]
  },
  {
   "cell_type": "code",
   "execution_count": null,
   "metadata": {
    "collapsed": true
   },
   "outputs": [],
   "source": [
    "import math\n",
    "\n",
    "def euclidean(rating1, rating2):\n",
    "    distance = 0\n",
    "\n",
    "    # add up the squared differences\n",
    "    for key in rating1:\n",
    "        if key in rating2:\n",
    "            distance += pow(rating1[key] - rating2[key], 2)\n",
    "\n",
    "    # take the square root of the result\n",
    "    return math.sqrt(distance)"
   ]
  },
  {
   "cell_type": "markdown",
   "metadata": {},
   "source": [
    "### Python code"
   ]
  },
  {
   "cell_type": "code",
   "execution_count": null,
   "metadata": {
    "collapsed": false
   },
   "outputs": [],
   "source": [
    "def computeNearestNeighborMn(username, users):\n",
    "    distances = []\n",
    "    for user in users:\n",
    "        if user != username:\n",
    "            distance = manhattan(users[user], users[username])\n",
    "            distances.append((distance, user))\n",
    "            \n",
    "    # sort based on distance -- closest first\n",
    "    distances.sort()\n",
    "    \n",
    "    return distances"
   ]
  },
  {
   "cell_type": "code",
   "execution_count": null,
   "metadata": {
    "collapsed": true
   },
   "outputs": [],
   "source": [
    "def computeNearestNeighborEu(username, users):\n",
    "    distances = []\n",
    "    for user in users:\n",
    "        if user != username:\n",
    "            distance = euclidean(users[user], users[username])\n",
    "            distances.append((distance, user))\n",
    "            \n",
    "    # sort based on distance -- closest first\n",
    "    distances.sort()\n",
    "    \n",
    "    return distances"
   ]
  },
  {
   "cell_type": "code",
   "execution_count": null,
   "metadata": {
    "collapsed": false
   },
   "outputs": [],
   "source": [
    "computeNearestNeighborMn(\"Hailey\", users)"
   ]
  },
  {
   "cell_type": "code",
   "execution_count": null,
   "metadata": {
    "collapsed": false
   },
   "outputs": [],
   "source": [
    "computeNearestNeighborEu(\"Hailey\", users)"
   ]
  }
 ],
 "metadata": {
  "kernelspec": {
   "display_name": "Python 2",
   "language": "python",
   "name": "python2"
  },
  "language_info": {
   "codemirror_mode": {
    "name": "ipython",
    "version": 2
   },
   "file_extension": ".py",
   "mimetype": "text/x-python",
   "name": "python",
   "nbconvert_exporter": "python",
   "pygments_lexer": "ipython2",
   "version": "2.7.11"
  }
 },
 "nbformat": 4,
 "nbformat_minor": 0
}
