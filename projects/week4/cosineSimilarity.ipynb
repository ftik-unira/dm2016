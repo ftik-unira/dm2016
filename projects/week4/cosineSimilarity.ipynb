{
 "cells": [
  {
   "cell_type": "code",
   "execution_count": 1,
   "metadata": {
    "collapsed": true
   },
   "outputs": [],
   "source": [
    "import codecs \n",
    "from math import sqrt"
   ]
  },
  {
   "cell_type": "code",
   "execution_count": 2,
   "metadata": {
    "collapsed": true
   },
   "outputs": [],
   "source": [
    "users2 = {\"Amy\": {\"Taylor Swift\": 4, \"PSY\": 3, \"Whitney Houston\": 4},\n",
    "          \"Ben\": {\"Taylor Swift\": 5, \"PSY\": 2},\n",
    "          \"Clara\": {\"PSY\": 3.5, \"Whitney Houston\": 4},\n",
    "          \"Daisy\": {\"Taylor Swift\": 5, \"Whitney Houston\": 3}}"
   ]
  },
  {
   "cell_type": "code",
   "execution_count": 3,
   "metadata": {
    "collapsed": true
   },
   "outputs": [],
   "source": [
    "users = {\"Angelica\": {\"Blues Traveler\": 3.5, \"Broken Bells\": 2.0,\n",
    "                      \"Norah Jones\": 4.5, \"Phoenix\": 5.0,\n",
    "                      \"Slightly Stoopid\": 1.5, \"The Strokes\": 2.5,\n",
    "                      \"Vampire Weekend\": 2.0},\n",
    "         \"Bill\":{\"Blues Traveler\": 2.0, \"Broken Bells\": 3.5,\n",
    "                 \"Deadmau5\": 4.0, \"Phoenix\": 2.0,\n",
    "                 \"Slightly Stoopid\": 3.5, \"Vampire Weekend\": 3.0},\n",
    "         \"Chan\": {\"Blues Traveler\": 5.0, \"Broken Bells\": 1.0,\n",
    "                  \"Deadmau5\": 1.0, \"Norah Jones\": 3.0,\n",
    "                  \"Phoenix\": 5, \"Slightly Stoopid\": 1.0},\n",
    "         \"Dan\": {\"Blues Traveler\": 3.0, \"Broken Bells\": 4.0,\n",
    "                 \"Deadmau5\": 4.5, \"Phoenix\": 3.0,\n",
    "                 \"Slightly Stoopid\": 4.5, \"The Strokes\": 4.0,\n",
    "                 \"Vampire Weekend\": 2.0},\n",
    "         \"Hailey\": {\"Broken Bells\": 4.0, \"Deadmau5\": 1.0,\n",
    "                    \"Norah Jones\": 4.0, \"The Strokes\": 4.0,\n",
    "                    \"Vampire Weekend\": 1.0},\n",
    "         \"Jordyn\":  {\"Broken Bells\": 4.5, \"Deadmau5\": 4.0,\n",
    "                     \"Norah Jones\": 5.0, \"Phoenix\": 5.0,\n",
    "                     \"Slightly Stoopid\": 4.5, \"The Strokes\": 4.0,\n",
    "                     \"Vampire Weekend\": 4.0},\n",
    "         \"Sam\": {\"Blues Traveler\": 5.0, \"Broken Bells\": 2.0,\n",
    "                 \"Norah Jones\": 3.0, \"Phoenix\": 5.0,\n",
    "                 \"Slightly Stoopid\": 4.0, \"The Strokes\": 5.0},\n",
    "         \"Veronica\": {\"Blues Traveler\": 3.0, \"Norah Jones\": 5.0,\n",
    "                      \"Phoenix\": 4.0, \"Slightly Stoopid\": 2.5,\n",
    "                      \"The Strokes\": 3.0}\n",
    "        }"
   ]
  },
  {
   "cell_type": "code",
   "execution_count": 4,
   "metadata": {
    "collapsed": true
   },
   "outputs": [],
   "source": [
    "users3 = {\"David\": {\"Imagine Dragons\": 3, \"Daft Punk\": 5,\n",
    "                    \"Lorde\": 4, \"Fall Out Boy\": 1},\n",
    "          \"Matt\":  {\"Imagine Dragons\": 3, \"Daft Punk\": 4,\n",
    "                    \"Lorde\": 4, \"Fall Out Boy\": 1},\n",
    "          \"Ben\":   {\"Kacey Musgraves\": 4, \"Imagine Dragons\": 3,\n",
    "                    \"Lorde\": 3, \"Fall Out Boy\": 1},\n",
    "          \"Chris\": {\"Kacey Musgraves\": 4, \"Imagine Dragons\": 4,\n",
    "                    \"Daft Punk\": 4, \"Lorde\": 3, \"Fall Out Boy\": 1},\n",
    "          \"Tori\":  {\"Kacey Musgraves\": 5, \"Imagine Dragons\": 4,\n",
    "                    \"Daft Punk\": 5, \"Fall Out Boy\": 3}\n",
    "         }"
   ]
  },
  {
   "cell_type": "code",
   "execution_count": 5,
   "metadata": {
    "collapsed": true
   },
   "outputs": [],
   "source": [
    "def computeUserAverages(users):\n",
    "   results = {}\n",
    "   for (key, ratings) in users.items():\n",
    "      results[key] = float(sum(ratings.values())) / len(ratings.values())\n",
    "   return results"
   ]
  },
  {
   "cell_type": "code",
   "execution_count": 6,
   "metadata": {
    "collapsed": true
   },
   "outputs": [],
   "source": [
    "def computeSimilarity(band1, band2, userRatings):\n",
    "   averages = {}\n",
    "   for (key, ratings) in userRatings.items():\n",
    "      averages[key] = (float(sum(ratings.values()))\n",
    "                      / len(ratings.values()))\n",
    "\n",
    "   num = 0  # numerator\n",
    "   dem1 = 0 # first half of denominator\n",
    "   dem2 = 0\n",
    "   for (user, ratings) in userRatings.items():\n",
    "      if band1 in ratings and band2 in ratings:\n",
    "         avg = averages[user]\n",
    "         num += (ratings[band1] - avg) * (ratings[band2] - avg)\n",
    "         dem1 += (ratings[band1] - avg)**2\n",
    "         dem2 += (ratings[band2] - avg)**2\n",
    "   return num / (sqrt(dem1) * sqrt(dem2))"
   ]
  },
  {
   "cell_type": "code",
   "execution_count": 7,
   "metadata": {
    "collapsed": false
   },
   "outputs": [
    {
     "name": "stdout",
     "output_type": "stream",
     "text": [
      "{'Angelica': 3.0, 'Veronica': 3.5, 'Sam': 4.0, 'Chan': 2.6666666666666665, 'Dan': 3.5714285714285716, 'Bill': 3.0, 'Jordyn': 4.428571428571429, 'Hailey': 2.8}\n"
     ]
    }
   ],
   "source": [
    "print computeUserAverages(users)"
   ]
  },
  {
   "cell_type": "code",
   "execution_count": 8,
   "metadata": {
    "collapsed": false
   },
   "outputs": [
    {
     "name": "stdout",
     "output_type": "stream",
     "text": [
      "{'Amy': 3.6666666666666665, 'Ben': 3.5, 'Clara': 3.75, 'Daisy': 4.0}\n"
     ]
    }
   ],
   "source": [
    "print computeUserAverages(users2)"
   ]
  },
  {
   "cell_type": "code",
   "execution_count": 10,
   "metadata": {
    "collapsed": false
   },
   "outputs": [
    {
     "name": "stdout",
     "output_type": "stream",
     "text": [
      "{'Chris': 3.2, 'Ben': 2.75, 'Matt': 3.0, 'Tori': 4.25, 'David': 3.25}\n"
     ]
    }
   ],
   "source": [
    "print computeUserAverages(users3)"
   ]
  }
 ],
 "metadata": {
  "kernelspec": {
   "display_name": "Python 2",
   "language": "python",
   "name": "python2"
  },
  "language_info": {
   "codemirror_mode": {
    "name": "ipython",
    "version": 2
   },
   "file_extension": ".py",
   "mimetype": "text/x-python",
   "name": "python",
   "nbconvert_exporter": "python",
   "pygments_lexer": "ipython2",
   "version": "2.7.10"
  }
 },
 "nbformat": 4,
 "nbformat_minor": 0
}
