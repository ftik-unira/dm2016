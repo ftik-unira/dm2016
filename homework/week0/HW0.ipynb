{
 "cells": [
  {
   "cell_type": "markdown",
   "metadata": {},
   "source": [
    "# Homework 0\n",
    "\n",
    "### Tanggal penyerahan (dd/mm/yyyy)\n",
    "\n",
    "---\n",
    "\n",
    "Selamat datang di matakuliah FTIK-DM2016 (http://cs109.github.io/2014/).  \n",
    "Di mata kuliah ini, kita akan menggunakan berbagai macam alat yg memerlukan setup configurasi untuk memastikan agar supaya segala sesuatunya berjalan dengan lancar. Kita akan melakukan setup sebagian besar dari tools yg dibutuhkan pada pekerjaan rumah kali ini. Pertama, aktivitas setup mungkin agak terasa sedikit membosankan, tapi apabila setup ini dapat diselesaikan lebih awal akan memudahkan kita dalam mendalami materi-materi yg sangat menarik kedepan nanti.\n",
    "\n",
    "\n",
    "## Programming\n",
    "\n",
    "Semua tugas di dalam mata kuliah ini akan menggunakan Python, sebagian besar kita akan menggunakan IPython notebook seperti dokumen yg sedang kamu lihat saat ini. Mata kuliah ini tidak mengharuskan memakai Python, apabila kamu sudah mempunyai bahasa pemrograman lain yg kamu sukai dan bisa mendukung menyelesaikan tugas-tugas yang diberikan. Mata kuliah ini tidak menitik beratkan pada aspek pemrogaman, dan skill pemrograman Python tidak diajarkan secara mendalam di mata kuliah ini. \n",
    "\n",
    "## Python\n",
    "\n",
    "Berikut ini beberapa Python tools yang populer dan yang sering digunakan untuk penghitungan saintifik sebagai berikut:\n",
    "* [Anaconda](http://continuum.io/downloads) \n",
    "* Silahkan kunjungi [halaman ini](https://github.com/ftik-unira/dm2016/wiki/Python-Installation) kemudian ikuti petunjuk instalasi Python.\n"
   ]
  }
 ],
 "metadata": {
  "kernelspec": {
   "display_name": "Python 2",
   "language": "python",
   "name": "python2"
  },
  "language_info": {
   "codemirror_mode": {
    "name": "ipython",
    "version": 2
   },
   "file_extension": ".py",
   "mimetype": "text/x-python",
   "name": "python",
   "nbconvert_exporter": "python",
   "pygments_lexer": "ipython2",
   "version": "2.7.11"
  }
 },
 "nbformat": 4,
 "nbformat_minor": 0
}
